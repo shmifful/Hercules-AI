{
 "cells": [
  {
   "cell_type": "markdown",
   "id": "25ecfa5a-2dd2-47bf-928c-3da89a224ae4",
   "metadata": {},
   "source": [
    "# Introduction\n",
    "To develop the core algorithm of the project and recommend workout plans, the app must first be aware of the available excercises, muscle group they target, type of exercise and the level of the exercise. For this project, I am going to be using a dataset provided by NIHARIKA PANDIT on Kaggle, which available for public use; link: https://www.kaggle.com/datasets/niharika41298/gym-exercise-data?resource=download "
   ]
  },
  {
   "cell_type": "code",
   "execution_count": 2,
   "id": "1e53f3c8-80d9-45da-8309-07589dc817fd",
   "metadata": {},
   "outputs": [],
   "source": [
    "# importing relavant libraries\n",
    "import pandas as pd\n",
    "import matplotlib.pyplot as plt\n",
    "import numpy as np"
   ]
  },
  {
   "cell_type": "markdown",
   "id": "87a2bd02-a68e-40e5-92ca-a486d2bb1a18",
   "metadata": {},
   "source": [
    "# Exploratory data analysis\n",
    "Before continuing with this dataset, I am going to explore it to see if the dataset is fit for this purpose, and if it needs changing."
   ]
  },
  {
   "cell_type": "code",
   "execution_count": 4,
   "id": "88b0a3cd-c638-45a6-809e-5c693d02d8fe",
   "metadata": {},
   "outputs": [
    {
     "data": {
      "text/html": [
       "<div>\n",
       "<style scoped>\n",
       "    .dataframe tbody tr th:only-of-type {\n",
       "        vertical-align: middle;\n",
       "    }\n",
       "\n",
       "    .dataframe tbody tr th {\n",
       "        vertical-align: top;\n",
       "    }\n",
       "\n",
       "    .dataframe thead th {\n",
       "        text-align: right;\n",
       "    }\n",
       "</style>\n",
       "<table border=\"1\" class=\"dataframe\">\n",
       "  <thead>\n",
       "    <tr style=\"text-align: right;\">\n",
       "      <th></th>\n",
       "      <th>Unnamed: 0</th>\n",
       "      <th>Title</th>\n",
       "      <th>Desc</th>\n",
       "      <th>Type</th>\n",
       "      <th>BodyPart</th>\n",
       "      <th>Equipment</th>\n",
       "      <th>Level</th>\n",
       "      <th>Rating</th>\n",
       "      <th>RatingDesc</th>\n",
       "    </tr>\n",
       "  </thead>\n",
       "  <tbody>\n",
       "    <tr>\n",
       "      <th>0</th>\n",
       "      <td>0</td>\n",
       "      <td>Partner plank band row</td>\n",
       "      <td>The partner plank band row is an abdominal exe...</td>\n",
       "      <td>Strength</td>\n",
       "      <td>Abdominals</td>\n",
       "      <td>Bands</td>\n",
       "      <td>Intermediate</td>\n",
       "      <td>0.0</td>\n",
       "      <td>NaN</td>\n",
       "    </tr>\n",
       "    <tr>\n",
       "      <th>1</th>\n",
       "      <td>1</td>\n",
       "      <td>Banded crunch isometric hold</td>\n",
       "      <td>The banded crunch isometric hold is an exercis...</td>\n",
       "      <td>Strength</td>\n",
       "      <td>Abdominals</td>\n",
       "      <td>Bands</td>\n",
       "      <td>Intermediate</td>\n",
       "      <td>NaN</td>\n",
       "      <td>NaN</td>\n",
       "    </tr>\n",
       "    <tr>\n",
       "      <th>2</th>\n",
       "      <td>2</td>\n",
       "      <td>FYR Banded Plank Jack</td>\n",
       "      <td>The banded plank jack is a variation on the pl...</td>\n",
       "      <td>Strength</td>\n",
       "      <td>Abdominals</td>\n",
       "      <td>Bands</td>\n",
       "      <td>Intermediate</td>\n",
       "      <td>NaN</td>\n",
       "      <td>NaN</td>\n",
       "    </tr>\n",
       "    <tr>\n",
       "      <th>3</th>\n",
       "      <td>3</td>\n",
       "      <td>Banded crunch</td>\n",
       "      <td>The banded crunch is an exercise targeting the...</td>\n",
       "      <td>Strength</td>\n",
       "      <td>Abdominals</td>\n",
       "      <td>Bands</td>\n",
       "      <td>Intermediate</td>\n",
       "      <td>NaN</td>\n",
       "      <td>NaN</td>\n",
       "    </tr>\n",
       "    <tr>\n",
       "      <th>4</th>\n",
       "      <td>4</td>\n",
       "      <td>Crunch</td>\n",
       "      <td>The crunch is a popular core exercise targetin...</td>\n",
       "      <td>Strength</td>\n",
       "      <td>Abdominals</td>\n",
       "      <td>Bands</td>\n",
       "      <td>Intermediate</td>\n",
       "      <td>NaN</td>\n",
       "      <td>NaN</td>\n",
       "    </tr>\n",
       "  </tbody>\n",
       "</table>\n",
       "</div>"
      ],
      "text/plain": [
       "   Unnamed: 0                         Title  \\\n",
       "0           0        Partner plank band row   \n",
       "1           1  Banded crunch isometric hold   \n",
       "2           2         FYR Banded Plank Jack   \n",
       "3           3                 Banded crunch   \n",
       "4           4                        Crunch   \n",
       "\n",
       "                                                Desc      Type    BodyPart  \\\n",
       "0  The partner plank band row is an abdominal exe...  Strength  Abdominals   \n",
       "1  The banded crunch isometric hold is an exercis...  Strength  Abdominals   \n",
       "2  The banded plank jack is a variation on the pl...  Strength  Abdominals   \n",
       "3  The banded crunch is an exercise targeting the...  Strength  Abdominals   \n",
       "4  The crunch is a popular core exercise targetin...  Strength  Abdominals   \n",
       "\n",
       "  Equipment         Level  Rating RatingDesc  \n",
       "0     Bands  Intermediate     0.0        NaN  \n",
       "1     Bands  Intermediate     NaN        NaN  \n",
       "2     Bands  Intermediate     NaN        NaN  \n",
       "3     Bands  Intermediate     NaN        NaN  \n",
       "4     Bands  Intermediate     NaN        NaN  "
      ]
     },
     "execution_count": 4,
     "metadata": {},
     "output_type": "execute_result"
    }
   ],
   "source": [
    "df = pd.read_csv(\"megaGymDataset.csv\")\n",
    "df.head()"
   ]
  },
  {
   "cell_type": "code",
   "execution_count": 5,
   "id": "ad160dd0-c4b6-47a9-b922-1859474ae2f6",
   "metadata": {},
   "outputs": [
    {
     "data": {
      "text/plain": [
       "Unnamed: 0    2918\n",
       "Title         2918\n",
       "Desc          1368\n",
       "Type          2918\n",
       "BodyPart      2918\n",
       "Equipment     2886\n",
       "Level         2918\n",
       "Rating        1031\n",
       "RatingDesc     862\n",
       "dtype: int64"
      ]
     },
     "execution_count": 5,
     "metadata": {},
     "output_type": "execute_result"
    }
   ],
   "source": [
    "df.count()"
   ]
  },
  {
   "cell_type": "markdown",
   "id": "6b8767c0-cfd6-458c-8a75-fc580d18a090",
   "metadata": {},
   "source": [
    "From count, we can see there are 2918 rows, however, not all the columns have meaningful values: Desc, Equipment, Rating, and RatingDesc have missing values."
   ]
  },
  {
   "cell_type": "markdown",
   "id": "a518f130-8ea7-45fa-973d-218236b6ce80",
   "metadata": {},
   "source": [
    "## Visualing the different types of exercises and how many of them there are"
   ]
  },
  {
   "cell_type": "code",
   "execution_count": 8,
   "id": "4dcba046-763f-42a2-8cb5-f3573f340dbb",
   "metadata": {
    "scrolled": true
   },
   "outputs": [
    {
     "data": {
      "image/png": "[encoded data removed]",
      "text/plain": [
       "<Figure size 640x480 with 1 Axes>"
      ]
     },
     "metadata": {},
     "output_type": "display_data"
    }
   ],
   "source": [
    "plt.title(\"How many exercises for a given type\")\n",
    "df[\"Type\"].value_counts().plot.bar()\n",
    "plt.show()"
   ]
  },
  {
   "cell_type": "markdown",
   "id": "333575d0-8114-4353-896f-7f90895e56a2",
   "metadata": {},
   "source": [
    "## Visualing the different muscle groups targeted and how many of them there are"
   ]
  },
  {
   "cell_type": "code",
   "execution_count": 10,
   "id": "4817b483-4fc0-4192-bd7c-d6a55590d961",
   "metadata": {
    "scrolled": true
   },
   "outputs": [
    {
     "data": {
      "image/png": "[encoded data removed]",
      "text/plain": [
       "<Figure size 640x480 with 1 Axes>"
      ]
     },
     "metadata": {},
     "output_type": "display_data"
    }
   ],
   "source": [
    "plt.title(\"How many muscle groups targeted\")\n",
    "df[\"BodyPart\"].value_counts().plot.bar()\n",
    "plt.show()"
   ]
  },
  {
   "cell_type": "markdown",
   "id": "3469a512-6938-4242-8d14-e518d25bee07",
   "metadata": {},
   "source": [
    "## Visualing the different equipment needed and how many of them there are"
   ]
  },
  {
   "cell_type": "code",
   "execution_count": 12,
   "id": "ff0fc192-87db-4957-9f55-1c162710907d",
   "metadata": {
    "scrolled": true
   },
   "outputs": [
    {
     "data": {
      "image/png": "[encoded data removed]",
      "text/plain": [
       "<Figure size 640x480 with 1 Axes>"
      ]
     },
     "metadata": {},
     "output_type": "display_data"
    }
   ],
   "source": [
    "plt.title(\"How many types of equipments\")\n",
    "df[\"Equipment\"].value_counts().plot.bar()\n",
    "plt.show()"
   ]
  },
  {
   "cell_type": "markdown",
   "id": "def8da38-5a54-4030-9ab3-10d9146e5e15",
   "metadata": {},
   "source": [
    "## Counting how many exercises for each level of difficulty"
   ]
  },
  {
   "cell_type": "code",
   "execution_count": 14,
   "id": "261eab0c-df92-41d1-8423-1db7dc12f0cb",
   "metadata": {},
   "outputs": [
    {
     "data": {
      "text/plain": [
       "Level\n",
       "Intermediate    2446\n",
       "Beginner         459\n",
       "Expert            13\n",
       "Name: count, dtype: int64"
      ]
     },
     "execution_count": 14,
     "metadata": {},
     "output_type": "execute_result"
    }
   ],
   "source": [
    "df[\"Level\"].value_counts()"
   ]
  },
  {
   "cell_type": "markdown",
   "id": "3c31b530-429c-4a37-9605-8f252bc0d9bf",
   "metadata": {},
   "source": [
    "## Frequency of rating"
   ]
  },
  {
   "cell_type": "code",
   "execution_count": 16,
   "id": "86ec71e7-b023-474b-ba6c-007fa1347f76",
   "metadata": {},
   "outputs": [
    {
     "data": {
      "image/png": "[encoded data removed]",
      "text/plain": [
       "<Figure size 640x480 with 1 Axes>"
      ]
     },
     "metadata": {},
     "output_type": "display_data"
    }
   ],
   "source": [
    "plt.title(\"Frequency of rating\")\n",
    "df[\"Rating\"].hist(bins=100)\n",
    "plt.show()"
   ]
  },
  {
   "cell_type": "code",
   "execution_count": 17,
   "id": "689d4303-d80c-4266-a463-df84e7c12134",
   "metadata": {},
   "outputs": [
    {
     "data": {
      "text/plain": [
       "count    1031.000000\n",
       "mean        5.919690\n",
       "std         3.584607\n",
       "min         0.000000\n",
       "25%         3.000000\n",
       "50%         7.900000\n",
       "75%         8.700000\n",
       "max         9.600000\n",
       "Name: Rating, dtype: float64"
      ]
     },
     "execution_count": 17,
     "metadata": {},
     "output_type": "execute_result"
    }
   ],
   "source": [
    "df[\"Rating\"].describe()"
   ]
  },
  {
   "cell_type": "markdown",
   "id": "f8bc36c5-1cfe-44aa-b787-0f077564dbd0",
   "metadata": {},
   "source": [
    "# Cleaning data\n",
    "Now that we see that there are some missing data, I am going to clean the data, such that it reduces complexity and that we know that the dat retained is fit for the purpose of this project.\n",
    "## Removing unwanted columns"
   ]
  },
  {
   "cell_type": "code",
   "execution_count": 19,
   "id": "bc6bac69-c154-47f9-b23b-53d3cf5870e3",
   "metadata": {},
   "outputs": [
    {
     "data": {
      "text/html": [
       "<div>\n",
       "<style scoped>\n",
       "    .dataframe tbody tr th:only-of-type {\n",
       "        vertical-align: middle;\n",
       "    }\n",
       "\n",
       "    .dataframe tbody tr th {\n",
       "        vertical-align: top;\n",
       "    }\n",
       "\n",
       "    .dataframe thead th {\n",
       "        text-align: right;\n",
       "    }\n",
       "</style>\n",
       "<table border=\"1\" class=\"dataframe\">\n",
       "  <thead>\n",
       "    <tr style=\"text-align: right;\">\n",
       "      <th></th>\n",
       "      <th>Title</th>\n",
       "      <th>Desc</th>\n",
       "      <th>Type</th>\n",
       "      <th>BodyPart</th>\n",
       "      <th>Equipment</th>\n",
       "      <th>Level</th>\n",
       "      <th>Rating</th>\n",
       "    </tr>\n",
       "  </thead>\n",
       "  <tbody>\n",
       "    <tr>\n",
       "      <th>0</th>\n",
       "      <td>Partner plank band row</td>\n",
       "      <td>The partner plank band row is an abdominal exe...</td>\n",
       "      <td>Strength</td>\n",
       "      <td>Abdominals</td>\n",
       "      <td>Bands</td>\n",
       "      <td>Intermediate</td>\n",
       "      <td>0.0</td>\n",
       "    </tr>\n",
       "    <tr>\n",
       "      <th>1</th>\n",
       "      <td>Banded crunch isometric hold</td>\n",
       "      <td>The banded crunch isometric hold is an exercis...</td>\n",
       "      <td>Strength</td>\n",
       "      <td>Abdominals</td>\n",
       "      <td>Bands</td>\n",
       "      <td>Intermediate</td>\n",
       "      <td>NaN</td>\n",
       "    </tr>\n",
       "    <tr>\n",
       "      <th>2</th>\n",
       "      <td>FYR Banded Plank Jack</td>\n",
       "      <td>The banded plank jack is a variation on the pl...</td>\n",
       "      <td>Strength</td>\n",
       "      <td>Abdominals</td>\n",
       "      <td>Bands</td>\n",
       "      <td>Intermediate</td>\n",
       "      <td>NaN</td>\n",
       "    </tr>\n",
       "    <tr>\n",
       "      <th>3</th>\n",
       "      <td>Banded crunch</td>\n",
       "      <td>The banded crunch is an exercise targeting the...</td>\n",
       "      <td>Strength</td>\n",
       "      <td>Abdominals</td>\n",
       "      <td>Bands</td>\n",
       "      <td>Intermediate</td>\n",
       "      <td>NaN</td>\n",
       "    </tr>\n",
       "    <tr>\n",
       "      <th>4</th>\n",
       "      <td>Crunch</td>\n",
       "      <td>The crunch is a popular core exercise targetin...</td>\n",
       "      <td>Strength</td>\n",
       "      <td>Abdominals</td>\n",
       "      <td>Bands</td>\n",
       "      <td>Intermediate</td>\n",
       "      <td>NaN</td>\n",
       "    </tr>\n",
       "  </tbody>\n",
       "</table>\n",
       "</div>"
      ],
      "text/plain": [
       "                          Title  \\\n",
       "0        Partner plank band row   \n",
       "1  Banded crunch isometric hold   \n",
       "2         FYR Banded Plank Jack   \n",
       "3                 Banded crunch   \n",
       "4                        Crunch   \n",
       "\n",
       "                                                Desc      Type    BodyPart  \\\n",
       "0  The partner plank band row is an abdominal exe...  Strength  Abdominals   \n",
       "1  The banded crunch isometric hold is an exercis...  Strength  Abdominals   \n",
       "2  The banded plank jack is a variation on the pl...  Strength  Abdominals   \n",
       "3  The banded crunch is an exercise targeting the...  Strength  Abdominals   \n",
       "4  The crunch is a popular core exercise targetin...  Strength  Abdominals   \n",
       "\n",
       "  Equipment         Level  Rating  \n",
       "0     Bands  Intermediate     0.0  \n",
       "1     Bands  Intermediate     NaN  \n",
       "2     Bands  Intermediate     NaN  \n",
       "3     Bands  Intermediate     NaN  \n",
       "4     Bands  Intermediate     NaN  "
      ]
     },
     "execution_count": 19,
     "metadata": {},
     "output_type": "execute_result"
    }
   ],
   "source": [
    "df = df.drop(columns=[\"Unnamed: 0\", \"RatingDesc\"])\n",
    "df.head()"
   ]
  },
  {
   "cell_type": "markdown",
   "id": "58424f17-7a03-476b-b961-da185b7a477e",
   "metadata": {},
   "source": [
    "I am only going to keep excercises with the rating score in the 75 percentile, to reduce the complexity of the data, and to give the user a better experience with excercises liked by the community."
   ]
  },
  {
   "cell_type": "code",
   "execution_count": 21,
   "id": "eb014544-ba9c-413d-b8d0-ccb9598f5460",
   "metadata": {},
   "outputs": [
    {
     "data": {
      "text/html": [
       "<div>\n",
       "<style scoped>\n",
       "    .dataframe tbody tr th:only-of-type {\n",
       "        vertical-align: middle;\n",
       "    }\n",
       "\n",
       "    .dataframe tbody tr th {\n",
       "        vertical-align: top;\n",
       "    }\n",
       "\n",
       "    .dataframe thead th {\n",
       "        text-align: right;\n",
       "    }\n",
       "</style>\n",
       "<table border=\"1\" class=\"dataframe\">\n",
       "  <thead>\n",
       "    <tr style=\"text-align: right;\">\n",
       "      <th></th>\n",
       "      <th>Title</th>\n",
       "      <th>Desc</th>\n",
       "      <th>Type</th>\n",
       "      <th>BodyPart</th>\n",
       "      <th>Equipment</th>\n",
       "      <th>Level</th>\n",
       "      <th>Rating</th>\n",
       "    </tr>\n",
       "  </thead>\n",
       "  <tbody>\n",
       "    <tr>\n",
       "      <th>8</th>\n",
       "      <td>Barbell roll-out</td>\n",
       "      <td>The barbell roll-out is an abdominal exercise ...</td>\n",
       "      <td>Strength</td>\n",
       "      <td>Abdominals</td>\n",
       "      <td>Barbell</td>\n",
       "      <td>Intermediate</td>\n",
       "      <td>8.9</td>\n",
       "    </tr>\n",
       "    <tr>\n",
       "      <th>9</th>\n",
       "      <td>Barbell Ab Rollout - On Knees</td>\n",
       "      <td>The barbell roll-out is an abdominal exercise ...</td>\n",
       "      <td>Strength</td>\n",
       "      <td>Abdominals</td>\n",
       "      <td>Barbell</td>\n",
       "      <td>Intermediate</td>\n",
       "      <td>8.9</td>\n",
       "    </tr>\n",
       "    <tr>\n",
       "      <th>39</th>\n",
       "      <td>Dumbbell V-Sit Cross Jab</td>\n",
       "      <td>The dumbbell V-sit cross jab is a hybrid movem...</td>\n",
       "      <td>Strength</td>\n",
       "      <td>Abdominals</td>\n",
       "      <td>Dumbbell</td>\n",
       "      <td>Intermediate</td>\n",
       "      <td>9.3</td>\n",
       "    </tr>\n",
       "    <tr>\n",
       "      <th>40</th>\n",
       "      <td>Dumbbell spell caster</td>\n",
       "      <td>The dumbbell spell caster is an exercise that ...</td>\n",
       "      <td>Strength</td>\n",
       "      <td>Abdominals</td>\n",
       "      <td>Dumbbell</td>\n",
       "      <td>Beginner</td>\n",
       "      <td>9.3</td>\n",
       "    </tr>\n",
       "    <tr>\n",
       "      <th>88</th>\n",
       "      <td>Landmine twist</td>\n",
       "      <td>The landmine twist is a rotational abdominal m...</td>\n",
       "      <td>Strength</td>\n",
       "      <td>Abdominals</td>\n",
       "      <td>Other</td>\n",
       "      <td>Intermediate</td>\n",
       "      <td>9.5</td>\n",
       "    </tr>\n",
       "  </tbody>\n",
       "</table>\n",
       "</div>"
      ],
      "text/plain": [
       "                            Title  \\\n",
       "8                Barbell roll-out   \n",
       "9   Barbell Ab Rollout - On Knees   \n",
       "39       Dumbbell V-Sit Cross Jab   \n",
       "40          Dumbbell spell caster   \n",
       "88                 Landmine twist   \n",
       "\n",
       "                                                 Desc      Type    BodyPart  \\\n",
       "8   The barbell roll-out is an abdominal exercise ...  Strength  Abdominals   \n",
       "9   The barbell roll-out is an abdominal exercise ...  Strength  Abdominals   \n",
       "39  The dumbbell V-sit cross jab is a hybrid movem...  Strength  Abdominals   \n",
       "40  The dumbbell spell caster is an exercise that ...  Strength  Abdominals   \n",
       "88  The landmine twist is a rotational abdominal m...  Strength  Abdominals   \n",
       "\n",
       "   Equipment         Level  Rating  \n",
       "8    Barbell  Intermediate     8.9  \n",
       "9    Barbell  Intermediate     8.9  \n",
       "39  Dumbbell  Intermediate     9.3  \n",
       "40  Dumbbell      Beginner     9.3  \n",
       "88     Other  Intermediate     9.5  "
      ]
     },
     "execution_count": 21,
     "metadata": {},
     "output_type": "execute_result"
    }
   ],
   "source": [
    "df = df[df[\"Rating\"] >= 8.7]\n",
    "df.head()"
   ]
  },
  {
   "cell_type": "markdown",
   "id": "e416afe1-5f9f-4661-9653-43d8baef3dd6",
   "metadata": {},
   "source": [
    "I will also remove excercises without a description; the description will help the user understand the how to perform the excercise."
   ]
  },
  {
   "cell_type": "code",
   "execution_count": 23,
   "id": "185fb095-daee-4751-9516-eeafc0139c66",
   "metadata": {},
   "outputs": [
    {
     "data": {
      "text/html": [
       "<div>\n",
       "<style scoped>\n",
       "    .dataframe tbody tr th:only-of-type {\n",
       "        vertical-align: middle;\n",
       "    }\n",
       "\n",
       "    .dataframe tbody tr th {\n",
       "        vertical-align: top;\n",
       "    }\n",
       "\n",
       "    .dataframe thead th {\n",
       "        text-align: right;\n",
       "    }\n",
       "</style>\n",
       "<table border=\"1\" class=\"dataframe\">\n",
       "  <thead>\n",
       "    <tr style=\"text-align: right;\">\n",
       "      <th></th>\n",
       "      <th>Title</th>\n",
       "      <th>Desc</th>\n",
       "      <th>Type</th>\n",
       "      <th>BodyPart</th>\n",
       "      <th>Equipment</th>\n",
       "      <th>Level</th>\n",
       "      <th>Rating</th>\n",
       "    </tr>\n",
       "  </thead>\n",
       "  <tbody>\n",
       "    <tr>\n",
       "      <th>8</th>\n",
       "      <td>Barbell roll-out</td>\n",
       "      <td>The barbell roll-out is an abdominal exercise ...</td>\n",
       "      <td>Strength</td>\n",
       "      <td>Abdominals</td>\n",
       "      <td>Barbell</td>\n",
       "      <td>Intermediate</td>\n",
       "      <td>8.9</td>\n",
       "    </tr>\n",
       "    <tr>\n",
       "      <th>9</th>\n",
       "      <td>Barbell Ab Rollout - On Knees</td>\n",
       "      <td>The barbell roll-out is an abdominal exercise ...</td>\n",
       "      <td>Strength</td>\n",
       "      <td>Abdominals</td>\n",
       "      <td>Barbell</td>\n",
       "      <td>Intermediate</td>\n",
       "      <td>8.9</td>\n",
       "    </tr>\n",
       "    <tr>\n",
       "      <th>39</th>\n",
       "      <td>Dumbbell V-Sit Cross Jab</td>\n",
       "      <td>The dumbbell V-sit cross jab is a hybrid movem...</td>\n",
       "      <td>Strength</td>\n",
       "      <td>Abdominals</td>\n",
       "      <td>Dumbbell</td>\n",
       "      <td>Intermediate</td>\n",
       "      <td>9.3</td>\n",
       "    </tr>\n",
       "    <tr>\n",
       "      <th>40</th>\n",
       "      <td>Dumbbell spell caster</td>\n",
       "      <td>The dumbbell spell caster is an exercise that ...</td>\n",
       "      <td>Strength</td>\n",
       "      <td>Abdominals</td>\n",
       "      <td>Dumbbell</td>\n",
       "      <td>Beginner</td>\n",
       "      <td>9.3</td>\n",
       "    </tr>\n",
       "    <tr>\n",
       "      <th>88</th>\n",
       "      <td>Landmine twist</td>\n",
       "      <td>The landmine twist is a rotational abdominal m...</td>\n",
       "      <td>Strength</td>\n",
       "      <td>Abdominals</td>\n",
       "      <td>Other</td>\n",
       "      <td>Intermediate</td>\n",
       "      <td>9.5</td>\n",
       "    </tr>\n",
       "  </tbody>\n",
       "</table>\n",
       "</div>"
      ],
      "text/plain": [
       "                            Title  \\\n",
       "8                Barbell roll-out   \n",
       "9   Barbell Ab Rollout - On Knees   \n",
       "39       Dumbbell V-Sit Cross Jab   \n",
       "40          Dumbbell spell caster   \n",
       "88                 Landmine twist   \n",
       "\n",
       "                                                 Desc      Type    BodyPart  \\\n",
       "8   The barbell roll-out is an abdominal exercise ...  Strength  Abdominals   \n",
       "9   The barbell roll-out is an abdominal exercise ...  Strength  Abdominals   \n",
       "39  The dumbbell V-sit cross jab is a hybrid movem...  Strength  Abdominals   \n",
       "40  The dumbbell spell caster is an exercise that ...  Strength  Abdominals   \n",
       "88  The landmine twist is a rotational abdominal m...  Strength  Abdominals   \n",
       "\n",
       "   Equipment         Level  Rating  \n",
       "8    Barbell  Intermediate     8.9  \n",
       "9    Barbell  Intermediate     8.9  \n",
       "39  Dumbbell  Intermediate     9.3  \n",
       "40  Dumbbell      Beginner     9.3  \n",
       "88     Other  Intermediate     9.5  "
      ]
     },
     "execution_count": 23,
     "metadata": {},
     "output_type": "execute_result"
    }
   ],
   "source": [
    "df = df[~(df[\"Desc\"].isna() | (df[\"Desc\"] == \"\"))]\n",
    "df.head()"
   ]
  },
  {
   "cell_type": "code",
   "execution_count": 24,
   "id": "5224f41e-71af-416a-8d95-9cd2a28be085",
   "metadata": {},
   "outputs": [
    {
     "data": {
      "text/plain": [
       "Title        208\n",
       "Desc         208\n",
       "Type         208\n",
       "BodyPart     208\n",
       "Equipment    207\n",
       "Level        208\n",
       "Rating       208\n",
       "dtype: int64"
      ]
     },
     "execution_count": 24,
     "metadata": {},
     "output_type": "execute_result"
    }
   ],
   "source": [
    "df.count()"
   ]
  },
  {
   "cell_type": "code",
   "execution_count": 25,
   "id": "0f9bf8bf-b732-477d-8922-58f15acfcbfc",
   "metadata": {},
   "outputs": [
    {
     "data": {
      "text/html": [
       "<div>\n",
       "<style scoped>\n",
       "    .dataframe tbody tr th:only-of-type {\n",
       "        vertical-align: middle;\n",
       "    }\n",
       "\n",
       "    .dataframe tbody tr th {\n",
       "        vertical-align: top;\n",
       "    }\n",
       "\n",
       "    .dataframe thead th {\n",
       "        text-align: right;\n",
       "    }\n",
       "</style>\n",
       "<table border=\"1\" class=\"dataframe\">\n",
       "  <thead>\n",
       "    <tr style=\"text-align: right;\">\n",
       "      <th></th>\n",
       "      <th>Title</th>\n",
       "      <th>Desc</th>\n",
       "      <th>Type</th>\n",
       "      <th>BodyPart</th>\n",
       "      <th>Equipment</th>\n",
       "      <th>Level</th>\n",
       "      <th>Rating</th>\n",
       "    </tr>\n",
       "  </thead>\n",
       "  <tbody>\n",
       "    <tr>\n",
       "      <th>8</th>\n",
       "      <td>Barbell roll-out</td>\n",
       "      <td>The barbell roll-out is an abdominal exercise ...</td>\n",
       "      <td>Strength</td>\n",
       "      <td>Abdominals</td>\n",
       "      <td>Barbell</td>\n",
       "      <td>Intermediate</td>\n",
       "      <td>8.9</td>\n",
       "    </tr>\n",
       "    <tr>\n",
       "      <th>9</th>\n",
       "      <td>Barbell Ab Rollout - On Knees</td>\n",
       "      <td>The barbell roll-out is an abdominal exercise ...</td>\n",
       "      <td>Strength</td>\n",
       "      <td>Abdominals</td>\n",
       "      <td>Barbell</td>\n",
       "      <td>Intermediate</td>\n",
       "      <td>8.9</td>\n",
       "    </tr>\n",
       "    <tr>\n",
       "      <th>39</th>\n",
       "      <td>Dumbbell V-Sit Cross Jab</td>\n",
       "      <td>The dumbbell V-sit cross jab is a hybrid movem...</td>\n",
       "      <td>Strength</td>\n",
       "      <td>Abdominals</td>\n",
       "      <td>Dumbbell</td>\n",
       "      <td>Intermediate</td>\n",
       "      <td>9.3</td>\n",
       "    </tr>\n",
       "    <tr>\n",
       "      <th>40</th>\n",
       "      <td>Dumbbell spell caster</td>\n",
       "      <td>The dumbbell spell caster is an exercise that ...</td>\n",
       "      <td>Strength</td>\n",
       "      <td>Abdominals</td>\n",
       "      <td>Dumbbell</td>\n",
       "      <td>Beginner</td>\n",
       "      <td>9.3</td>\n",
       "    </tr>\n",
       "    <tr>\n",
       "      <th>88</th>\n",
       "      <td>Landmine twist</td>\n",
       "      <td>The landmine twist is a rotational abdominal m...</td>\n",
       "      <td>Strength</td>\n",
       "      <td>Abdominals</td>\n",
       "      <td>Other</td>\n",
       "      <td>Intermediate</td>\n",
       "      <td>9.5</td>\n",
       "    </tr>\n",
       "    <tr>\n",
       "      <th>...</th>\n",
       "      <td>...</td>\n",
       "      <td>...</td>\n",
       "      <td>...</td>\n",
       "      <td>...</td>\n",
       "      <td>...</td>\n",
       "      <td>...</td>\n",
       "      <td>...</td>\n",
       "    </tr>\n",
       "    <tr>\n",
       "      <th>1367</th>\n",
       "      <td>Natural Glute Ham Raise</td>\n",
       "      <td>The glute ham raise is an exercise targeting t...</td>\n",
       "      <td>Strength</td>\n",
       "      <td>Hamstrings</td>\n",
       "      <td>Body Only</td>\n",
       "      <td>Beginner</td>\n",
       "      <td>9.1</td>\n",
       "    </tr>\n",
       "    <tr>\n",
       "      <th>1402</th>\n",
       "      <td>Glute ham raise-</td>\n",
       "      <td>The glute ham raise is an exercise targeting t...</td>\n",
       "      <td>Strength</td>\n",
       "      <td>Hamstrings</td>\n",
       "      <td>NaN</td>\n",
       "      <td>Beginner</td>\n",
       "      <td>9.1</td>\n",
       "    </tr>\n",
       "    <tr>\n",
       "      <th>1408</th>\n",
       "      <td>Exercise ball leg curl</td>\n",
       "      <td>The exercise ball leg curl is an exercise targ...</td>\n",
       "      <td>Strength</td>\n",
       "      <td>Hamstrings</td>\n",
       "      <td>Exercise Ball</td>\n",
       "      <td>Intermediate</td>\n",
       "      <td>8.8</td>\n",
       "    </tr>\n",
       "    <tr>\n",
       "      <th>1451</th>\n",
       "      <td>Weighted pull-up</td>\n",
       "      <td>The weighted pull-up is a more advanced variat...</td>\n",
       "      <td>Strength</td>\n",
       "      <td>Lats</td>\n",
       "      <td>Other</td>\n",
       "      <td>Intermediate</td>\n",
       "      <td>9.5</td>\n",
       "    </tr>\n",
       "    <tr>\n",
       "      <th>1469</th>\n",
       "      <td>Close-grip pull-down</td>\n",
       "      <td>The close-grip pull-down is a variation on the...</td>\n",
       "      <td>Strength</td>\n",
       "      <td>Lats</td>\n",
       "      <td>Cable</td>\n",
       "      <td>Intermediate</td>\n",
       "      <td>8.9</td>\n",
       "    </tr>\n",
       "  </tbody>\n",
       "</table>\n",
       "<p>100 rows × 7 columns</p>\n",
       "</div>"
      ],
      "text/plain": [
       "                              Title  \\\n",
       "8                  Barbell roll-out   \n",
       "9     Barbell Ab Rollout - On Knees   \n",
       "39         Dumbbell V-Sit Cross Jab   \n",
       "40            Dumbbell spell caster   \n",
       "88                   Landmine twist   \n",
       "...                             ...   \n",
       "1367        Natural Glute Ham Raise   \n",
       "1402               Glute ham raise-   \n",
       "1408         Exercise ball leg curl   \n",
       "1451               Weighted pull-up   \n",
       "1469           Close-grip pull-down   \n",
       "\n",
       "                                                   Desc      Type    BodyPart  \\\n",
       "8     The barbell roll-out is an abdominal exercise ...  Strength  Abdominals   \n",
       "9     The barbell roll-out is an abdominal exercise ...  Strength  Abdominals   \n",
       "39    The dumbbell V-sit cross jab is a hybrid movem...  Strength  Abdominals   \n",
       "40    The dumbbell spell caster is an exercise that ...  Strength  Abdominals   \n",
       "88    The landmine twist is a rotational abdominal m...  Strength  Abdominals   \n",
       "...                                                 ...       ...         ...   \n",
       "1367  The glute ham raise is an exercise targeting t...  Strength  Hamstrings   \n",
       "1402  The glute ham raise is an exercise targeting t...  Strength  Hamstrings   \n",
       "1408  The exercise ball leg curl is an exercise targ...  Strength  Hamstrings   \n",
       "1451  The weighted pull-up is a more advanced variat...  Strength        Lats   \n",
       "1469  The close-grip pull-down is a variation on the...  Strength        Lats   \n",
       "\n",
       "          Equipment         Level  Rating  \n",
       "8           Barbell  Intermediate     8.9  \n",
       "9           Barbell  Intermediate     8.9  \n",
       "39         Dumbbell  Intermediate     9.3  \n",
       "40         Dumbbell      Beginner     9.3  \n",
       "88            Other  Intermediate     9.5  \n",
       "...             ...           ...     ...  \n",
       "1367      Body Only      Beginner     9.1  \n",
       "1402            NaN      Beginner     9.1  \n",
       "1408  Exercise Ball  Intermediate     8.8  \n",
       "1451          Other  Intermediate     9.5  \n",
       "1469          Cable  Intermediate     8.9  \n",
       "\n",
       "[100 rows x 7 columns]"
      ]
     },
     "execution_count": 25,
     "metadata": {},
     "output_type": "execute_result"
    }
   ],
   "source": [
    "df.head(100)"
   ]
  },
  {
   "cell_type": "code",
   "execution_count": 26,
   "id": "d9f4dc96-ca39-4f9f-b10d-53a03db1d600",
   "metadata": {},
   "outputs": [
    {
     "data": {
      "text/html": [
       "<div>\n",
       "<style scoped>\n",
       "    .dataframe tbody tr th:only-of-type {\n",
       "        vertical-align: middle;\n",
       "    }\n",
       "\n",
       "    .dataframe tbody tr th {\n",
       "        vertical-align: top;\n",
       "    }\n",
       "\n",
       "    .dataframe thead th {\n",
       "        text-align: right;\n",
       "    }\n",
       "</style>\n",
       "<table border=\"1\" class=\"dataframe\">\n",
       "  <thead>\n",
       "    <tr style=\"text-align: right;\">\n",
       "      <th></th>\n",
       "      <th>Title</th>\n",
       "      <th>Desc</th>\n",
       "      <th>Type</th>\n",
       "      <th>BodyPart</th>\n",
       "      <th>Equipment</th>\n",
       "      <th>Level</th>\n",
       "      <th>Rating</th>\n",
       "    </tr>\n",
       "  </thead>\n",
       "  <tbody>\n",
       "    <tr>\n",
       "      <th>8</th>\n",
       "      <td>Barbell roll-out</td>\n",
       "      <td>The barbell roll-out is an abdominal exercise ...</td>\n",
       "      <td>Strength</td>\n",
       "      <td>Abdominals</td>\n",
       "      <td>Barbell</td>\n",
       "      <td>Intermediate</td>\n",
       "      <td>8.9</td>\n",
       "    </tr>\n",
       "    <tr>\n",
       "      <th>9</th>\n",
       "      <td>Barbell Ab Rollout - On Knees</td>\n",
       "      <td>The barbell roll-out is an abdominal exercise ...</td>\n",
       "      <td>Strength</td>\n",
       "      <td>Abdominals</td>\n",
       "      <td>Barbell</td>\n",
       "      <td>Intermediate</td>\n",
       "      <td>8.9</td>\n",
       "    </tr>\n",
       "    <tr>\n",
       "      <th>39</th>\n",
       "      <td>Dumbbell V-Sit Cross Jab</td>\n",
       "      <td>The dumbbell V-sit cross jab is a hybrid movem...</td>\n",
       "      <td>Strength</td>\n",
       "      <td>Abdominals</td>\n",
       "      <td>Dumbbell</td>\n",
       "      <td>Intermediate</td>\n",
       "      <td>9.3</td>\n",
       "    </tr>\n",
       "    <tr>\n",
       "      <th>40</th>\n",
       "      <td>Dumbbell spell caster</td>\n",
       "      <td>The dumbbell spell caster is an exercise that ...</td>\n",
       "      <td>Strength</td>\n",
       "      <td>Abdominals</td>\n",
       "      <td>Dumbbell</td>\n",
       "      <td>Beginner</td>\n",
       "      <td>9.3</td>\n",
       "    </tr>\n",
       "    <tr>\n",
       "      <th>88</th>\n",
       "      <td>Landmine twist</td>\n",
       "      <td>The landmine twist is a rotational abdominal m...</td>\n",
       "      <td>Strength</td>\n",
       "      <td>Abdominals</td>\n",
       "      <td>Other</td>\n",
       "      <td>Intermediate</td>\n",
       "      <td>9.5</td>\n",
       "    </tr>\n",
       "    <tr>\n",
       "      <th>...</th>\n",
       "      <td>...</td>\n",
       "      <td>...</td>\n",
       "      <td>...</td>\n",
       "      <td>...</td>\n",
       "      <td>...</td>\n",
       "      <td>...</td>\n",
       "      <td>...</td>\n",
       "    </tr>\n",
       "    <tr>\n",
       "      <th>1367</th>\n",
       "      <td>Natural Glute Ham Raise</td>\n",
       "      <td>The glute ham raise is an exercise targeting t...</td>\n",
       "      <td>Strength</td>\n",
       "      <td>Hamstrings</td>\n",
       "      <td>Body Only</td>\n",
       "      <td>Beginner</td>\n",
       "      <td>9.1</td>\n",
       "    </tr>\n",
       "    <tr>\n",
       "      <th>1408</th>\n",
       "      <td>Exercise ball leg curl</td>\n",
       "      <td>The exercise ball leg curl is an exercise targ...</td>\n",
       "      <td>Strength</td>\n",
       "      <td>Hamstrings</td>\n",
       "      <td>Exercise Ball</td>\n",
       "      <td>Intermediate</td>\n",
       "      <td>8.8</td>\n",
       "    </tr>\n",
       "    <tr>\n",
       "      <th>1451</th>\n",
       "      <td>Weighted pull-up</td>\n",
       "      <td>The weighted pull-up is a more advanced variat...</td>\n",
       "      <td>Strength</td>\n",
       "      <td>Lats</td>\n",
       "      <td>Other</td>\n",
       "      <td>Intermediate</td>\n",
       "      <td>9.5</td>\n",
       "    </tr>\n",
       "    <tr>\n",
       "      <th>1469</th>\n",
       "      <td>Close-grip pull-down</td>\n",
       "      <td>The close-grip pull-down is a variation on the...</td>\n",
       "      <td>Strength</td>\n",
       "      <td>Lats</td>\n",
       "      <td>Cable</td>\n",
       "      <td>Intermediate</td>\n",
       "      <td>8.9</td>\n",
       "    </tr>\n",
       "    <tr>\n",
       "      <th>1470</th>\n",
       "      <td>Shotgun row</td>\n",
       "      <td>The shotgun row is a single-arm row variation ...</td>\n",
       "      <td>Strength</td>\n",
       "      <td>Lats</td>\n",
       "      <td>Cable</td>\n",
       "      <td>Intermediate</td>\n",
       "      <td>8.9</td>\n",
       "    </tr>\n",
       "  </tbody>\n",
       "</table>\n",
       "<p>100 rows × 7 columns</p>\n",
       "</div>"
      ],
      "text/plain": [
       "                              Title  \\\n",
       "8                  Barbell roll-out   \n",
       "9     Barbell Ab Rollout - On Knees   \n",
       "39         Dumbbell V-Sit Cross Jab   \n",
       "40            Dumbbell spell caster   \n",
       "88                   Landmine twist   \n",
       "...                             ...   \n",
       "1367        Natural Glute Ham Raise   \n",
       "1408         Exercise ball leg curl   \n",
       "1451               Weighted pull-up   \n",
       "1469           Close-grip pull-down   \n",
       "1470                    Shotgun row   \n",
       "\n",
       "                                                   Desc      Type    BodyPart  \\\n",
       "8     The barbell roll-out is an abdominal exercise ...  Strength  Abdominals   \n",
       "9     The barbell roll-out is an abdominal exercise ...  Strength  Abdominals   \n",
       "39    The dumbbell V-sit cross jab is a hybrid movem...  Strength  Abdominals   \n",
       "40    The dumbbell spell caster is an exercise that ...  Strength  Abdominals   \n",
       "88    The landmine twist is a rotational abdominal m...  Strength  Abdominals   \n",
       "...                                                 ...       ...         ...   \n",
       "1367  The glute ham raise is an exercise targeting t...  Strength  Hamstrings   \n",
       "1408  The exercise ball leg curl is an exercise targ...  Strength  Hamstrings   \n",
       "1451  The weighted pull-up is a more advanced variat...  Strength        Lats   \n",
       "1469  The close-grip pull-down is a variation on the...  Strength        Lats   \n",
       "1470  The shotgun row is a single-arm row variation ...  Strength        Lats   \n",
       "\n",
       "          Equipment         Level  Rating  \n",
       "8           Barbell  Intermediate     8.9  \n",
       "9           Barbell  Intermediate     8.9  \n",
       "39         Dumbbell  Intermediate     9.3  \n",
       "40         Dumbbell      Beginner     9.3  \n",
       "88            Other  Intermediate     9.5  \n",
       "...             ...           ...     ...  \n",
       "1367      Body Only      Beginner     9.1  \n",
       "1408  Exercise Ball  Intermediate     8.8  \n",
       "1451          Other  Intermediate     9.5  \n",
       "1469          Cable  Intermediate     8.9  \n",
       "1470          Cable  Intermediate     8.9  \n",
       "\n",
       "[100 rows x 7 columns]"
      ]
     },
     "execution_count": 26,
     "metadata": {},
     "output_type": "execute_result"
    }
   ],
   "source": [
    "# Removing index 1402 because it doesn't have an equipment assigned\n",
    "df = df.drop(index=1402)\n",
    "df.head(100)"
   ]
  },
  {
   "cell_type": "markdown",
   "id": "abaf0f60-c990-4f70-8fc4-301240ef2ea0",
   "metadata": {},
   "source": [
    "# Saving the new dataset"
   ]
  },
  {
   "cell_type": "code",
   "execution_count": 28,
   "id": "6153785d-60b3-4305-9d2c-6b5917e2a6a9",
   "metadata": {},
   "outputs": [],
   "source": [
    "df.to_csv(\"excercises.csv\", index=False)"
   ]
  }
 ],
 "metadata": {
  "kernelspec": {
   "display_name": "Python 3 (ipykernel)",
   "language": "python",
   "name": "python3"
  },
  "language_info": {
   "codemirror_mode": {
    "name": "ipython",
    "version": 3
   },
   "file_extension": ".py",
   "mimetype": "text/x-python",
   "name": "python",
   "nbconvert_exporter": "python",
   "pygments_lexer": "ipython3",
   "version": "3.12.4"
  }
 },
 "nbformat": 4,
 "nbformat_minor": 5
}
