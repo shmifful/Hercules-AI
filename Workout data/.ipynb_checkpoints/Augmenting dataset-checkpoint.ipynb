{
 "cells": [
  {
   "cell_type": "code",
   "execution_count": 1,
   "id": "6e652b46-644a-465e-ba46-affb622bd767",
   "metadata": {},
   "outputs": [],
   "source": [
    "import pandas as pd"
   ]
  },
  {
   "cell_type": "code",
   "execution_count": 3,
   "id": "848e6c8e-d8b0-4370-93f5-af4164ae9263",
   "metadata": {},
   "outputs": [
    {
     "data": {
      "text/html": [
       "<div>\n",
       "<style scoped>\n",
       "    .dataframe tbody tr th:only-of-type {\n",
       "        vertical-align: middle;\n",
       "    }\n",
       "\n",
       "    .dataframe tbody tr th {\n",
       "        vertical-align: top;\n",
       "    }\n",
       "\n",
       "    .dataframe thead th {\n",
       "        text-align: right;\n",
       "    }\n",
       "</style>\n",
       "<table border=\"1\" class=\"dataframe\">\n",
       "  <thead>\n",
       "    <tr style=\"text-align: right;\">\n",
       "      <th></th>\n",
       "      <th>Title</th>\n",
       "      <th>Desc</th>\n",
       "      <th>Type</th>\n",
       "      <th>BodyPart</th>\n",
       "      <th>Equipment</th>\n",
       "      <th>Level</th>\n",
       "      <th>Rating</th>\n",
       "    </tr>\n",
       "  </thead>\n",
       "  <tbody>\n",
       "    <tr>\n",
       "      <th>0</th>\n",
       "      <td>Barbell roll-out</td>\n",
       "      <td>The barbell roll-out is an abdominal exercise ...</td>\n",
       "      <td>Strength</td>\n",
       "      <td>Abdominals</td>\n",
       "      <td>Barbell</td>\n",
       "      <td>Intermediate</td>\n",
       "      <td>8.9</td>\n",
       "    </tr>\n",
       "    <tr>\n",
       "      <th>1</th>\n",
       "      <td>Barbell Ab Rollout - On Knees</td>\n",
       "      <td>The barbell roll-out is an abdominal exercise ...</td>\n",
       "      <td>Strength</td>\n",
       "      <td>Abdominals</td>\n",
       "      <td>Barbell</td>\n",
       "      <td>Intermediate</td>\n",
       "      <td>8.9</td>\n",
       "    </tr>\n",
       "    <tr>\n",
       "      <th>2</th>\n",
       "      <td>Dumbbell V-Sit Cross Jab</td>\n",
       "      <td>The dumbbell V-sit cross jab is a hybrid movem...</td>\n",
       "      <td>Strength</td>\n",
       "      <td>Abdominals</td>\n",
       "      <td>Dumbbell</td>\n",
       "      <td>Intermediate</td>\n",
       "      <td>9.3</td>\n",
       "    </tr>\n",
       "    <tr>\n",
       "      <th>3</th>\n",
       "      <td>Dumbbell spell caster</td>\n",
       "      <td>The dumbbell spell caster is an exercise that ...</td>\n",
       "      <td>Strength</td>\n",
       "      <td>Abdominals</td>\n",
       "      <td>Dumbbell</td>\n",
       "      <td>Beginner</td>\n",
       "      <td>9.3</td>\n",
       "    </tr>\n",
       "    <tr>\n",
       "      <th>4</th>\n",
       "      <td>Landmine twist</td>\n",
       "      <td>The landmine twist is a rotational abdominal m...</td>\n",
       "      <td>Strength</td>\n",
       "      <td>Abdominals</td>\n",
       "      <td>Other</td>\n",
       "      <td>Intermediate</td>\n",
       "      <td>9.5</td>\n",
       "    </tr>\n",
       "  </tbody>\n",
       "</table>\n",
       "</div>"
      ],
      "text/plain": [
       "                           Title  \\\n",
       "0               Barbell roll-out   \n",
       "1  Barbell Ab Rollout - On Knees   \n",
       "2       Dumbbell V-Sit Cross Jab   \n",
       "3          Dumbbell spell caster   \n",
       "4                 Landmine twist   \n",
       "\n",
       "                                                Desc      Type    BodyPart  \\\n",
       "0  The barbell roll-out is an abdominal exercise ...  Strength  Abdominals   \n",
       "1  The barbell roll-out is an abdominal exercise ...  Strength  Abdominals   \n",
       "2  The dumbbell V-sit cross jab is a hybrid movem...  Strength  Abdominals   \n",
       "3  The dumbbell spell caster is an exercise that ...  Strength  Abdominals   \n",
       "4  The landmine twist is a rotational abdominal m...  Strength  Abdominals   \n",
       "\n",
       "  Equipment         Level  Rating  \n",
       "0   Barbell  Intermediate     8.9  \n",
       "1   Barbell  Intermediate     8.9  \n",
       "2  Dumbbell  Intermediate     9.3  \n",
       "3  Dumbbell      Beginner     9.3  \n",
       "4     Other  Intermediate     9.5  "
      ]
     },
     "execution_count": 3,
     "metadata": {},
     "output_type": "execute_result"
    }
   ],
   "source": [
    "df = pd.read_csv(\"exercises.csv\")\n",
    "df.head()"
   ]
  },
  {
   "cell_type": "code",
   "execution_count": 9,
   "id": "29bc1996-1869-4285-a656-c460ce567239",
   "metadata": {},
   "outputs": [],
   "source": [
    "# Map body parts to movements (case-insensitive)\n",
    "movement_map = {\n",
    "    \"push\": [\"chest\", \"shoulders\", \"triceps\"],\n",
    "    \"pull\": [\"biceps\", \"lats\", \"middle back\", \"traps\"],\n",
    "    \"core\": [\"abdominals\", \"lower back\"],\n",
    "    \"legs\": [\"quadriceps\", \"hamstrings\", \"glutes\", \"calves\", \"adductors\"]\n",
    "}\n",
    "\n",
    "def categorize_movement(body_part):\n",
    "    body_part = str(body_part).lower()\n",
    "    for movement, terms in movement_map.items():\n",
    "        if any(term in body_part for term in terms):\n",
    "            return movement\n",
    "    return \"Other\"\n",
    "\n",
    "df[\"Movement\"] = df[\"BodyPart\"].apply(categorize_movement)"
   ]
  },
  {
   "cell_type": "code",
   "execution_count": 11,
   "id": "314ec1ac-0d66-4ef9-a6ba-af9142f9633f",
   "metadata": {},
   "outputs": [
    {
     "data": {
      "text/html": [
       "<div>\n",
       "<style scoped>\n",
       "    .dataframe tbody tr th:only-of-type {\n",
       "        vertical-align: middle;\n",
       "    }\n",
       "\n",
       "    .dataframe tbody tr th {\n",
       "        vertical-align: top;\n",
       "    }\n",
       "\n",
       "    .dataframe thead th {\n",
       "        text-align: right;\n",
       "    }\n",
       "</style>\n",
       "<table border=\"1\" class=\"dataframe\">\n",
       "  <thead>\n",
       "    <tr style=\"text-align: right;\">\n",
       "      <th></th>\n",
       "      <th>Title</th>\n",
       "      <th>Desc</th>\n",
       "      <th>Type</th>\n",
       "      <th>BodyPart</th>\n",
       "      <th>Equipment</th>\n",
       "      <th>Level</th>\n",
       "      <th>Rating</th>\n",
       "      <th>Movement</th>\n",
       "    </tr>\n",
       "  </thead>\n",
       "  <tbody>\n",
       "    <tr>\n",
       "      <th>0</th>\n",
       "      <td>Barbell roll-out</td>\n",
       "      <td>The barbell roll-out is an abdominal exercise ...</td>\n",
       "      <td>Strength</td>\n",
       "      <td>Abdominals</td>\n",
       "      <td>Barbell</td>\n",
       "      <td>Intermediate</td>\n",
       "      <td>8.9</td>\n",
       "      <td>core</td>\n",
       "    </tr>\n",
       "    <tr>\n",
       "      <th>1</th>\n",
       "      <td>Barbell Ab Rollout - On Knees</td>\n",
       "      <td>The barbell roll-out is an abdominal exercise ...</td>\n",
       "      <td>Strength</td>\n",
       "      <td>Abdominals</td>\n",
       "      <td>Barbell</td>\n",
       "      <td>Intermediate</td>\n",
       "      <td>8.9</td>\n",
       "      <td>core</td>\n",
       "    </tr>\n",
       "    <tr>\n",
       "      <th>2</th>\n",
       "      <td>Dumbbell V-Sit Cross Jab</td>\n",
       "      <td>The dumbbell V-sit cross jab is a hybrid movem...</td>\n",
       "      <td>Strength</td>\n",
       "      <td>Abdominals</td>\n",
       "      <td>Dumbbell</td>\n",
       "      <td>Intermediate</td>\n",
       "      <td>9.3</td>\n",
       "      <td>core</td>\n",
       "    </tr>\n",
       "    <tr>\n",
       "      <th>3</th>\n",
       "      <td>Dumbbell spell caster</td>\n",
       "      <td>The dumbbell spell caster is an exercise that ...</td>\n",
       "      <td>Strength</td>\n",
       "      <td>Abdominals</td>\n",
       "      <td>Dumbbell</td>\n",
       "      <td>Beginner</td>\n",
       "      <td>9.3</td>\n",
       "      <td>core</td>\n",
       "    </tr>\n",
       "    <tr>\n",
       "      <th>4</th>\n",
       "      <td>Landmine twist</td>\n",
       "      <td>The landmine twist is a rotational abdominal m...</td>\n",
       "      <td>Strength</td>\n",
       "      <td>Abdominals</td>\n",
       "      <td>Other</td>\n",
       "      <td>Intermediate</td>\n",
       "      <td>9.5</td>\n",
       "      <td>core</td>\n",
       "    </tr>\n",
       "  </tbody>\n",
       "</table>\n",
       "</div>"
      ],
      "text/plain": [
       "                           Title  \\\n",
       "0               Barbell roll-out   \n",
       "1  Barbell Ab Rollout - On Knees   \n",
       "2       Dumbbell V-Sit Cross Jab   \n",
       "3          Dumbbell spell caster   \n",
       "4                 Landmine twist   \n",
       "\n",
       "                                                Desc      Type    BodyPart  \\\n",
       "0  The barbell roll-out is an abdominal exercise ...  Strength  Abdominals   \n",
       "1  The barbell roll-out is an abdominal exercise ...  Strength  Abdominals   \n",
       "2  The dumbbell V-sit cross jab is a hybrid movem...  Strength  Abdominals   \n",
       "3  The dumbbell spell caster is an exercise that ...  Strength  Abdominals   \n",
       "4  The landmine twist is a rotational abdominal m...  Strength  Abdominals   \n",
       "\n",
       "  Equipment         Level  Rating Movement  \n",
       "0   Barbell  Intermediate     8.9     core  \n",
       "1   Barbell  Intermediate     8.9     core  \n",
       "2  Dumbbell  Intermediate     9.3     core  \n",
       "3  Dumbbell      Beginner     9.3     core  \n",
       "4     Other  Intermediate     9.5     core  "
      ]
     },
     "execution_count": 11,
     "metadata": {},
     "output_type": "execute_result"
    }
   ],
   "source": [
    "df.head()"
   ]
  },
  {
   "cell_type": "code",
   "execution_count": 13,
   "id": "7ad02ed4-1757-4945-9e2d-42735c9e9efc",
   "metadata": {},
   "outputs": [],
   "source": [
    "# Example: Extract primary/secondary muscles from \"Desc\"\n",
    "df[\"Primary Muscles\"] = df[\"Desc\"].str.extract(r\"Primary Muscles: (.*?)\\.\")\n",
    "df[\"Secondary Muscles\"] = df[\"Desc\"].str.extract(r\"Secondary Muscles: (.*?)\\.\")"
   ]
  },
  {
   "cell_type": "code",
   "execution_count": 15,
   "id": "4559e537-7ef2-43a9-b59f-de55a7b6ec59",
   "metadata": {},
   "outputs": [
    {
     "data": {
      "text/plain": [
       "0      NaN\n",
       "1      NaN\n",
       "2      NaN\n",
       "3      NaN\n",
       "4      NaN\n",
       "      ... \n",
       "202    NaN\n",
       "203    NaN\n",
       "204    NaN\n",
       "205    NaN\n",
       "206    NaN\n",
       "Name: Primary Muscles, Length: 207, dtype: object"
      ]
     },
     "execution_count": 15,
     "metadata": {},
     "output_type": "execute_result"
    }
   ],
   "source": [
    "df[\"Primary Muscles\"]"
   ]
  },
  {
   "cell_type": "code",
   "execution_count": 33,
   "id": "591e84c0-d8fb-4e30-ac82-4860e929719d",
   "metadata": {},
   "outputs": [],
   "source": [
    "df[\"MovementType\"] = df.apply(\n",
    "    lambda row: \"Compound\" if (\"compound\" in row[\"Desc\"].lower()) else \"Isolation\", axis=1\n",
    ")"
   ]
  },
  {
   "cell_type": "code",
   "execution_count": 39,
   "id": "f78a8bcb-772b-4fbd-8bfd-fb225d01cbb9",
   "metadata": {},
   "outputs": [],
   "source": [
    "df[\"Intensity\"] = df[\"Equipment\"].apply(\n",
    "    lambda x: \"High\" if x in [\"Barbell\", \"Kettlebells\"] \n",
    "    else \"Medium\" if x == \"Dumbbell\" \n",
    "    else \"Low\"\n",
    ")"
   ]
  },
  {
   "cell_type": "code",
   "execution_count": 47,
   "id": "a7ac0f6a-9293-477c-a943-0beaa60c5f9c",
   "metadata": {},
   "outputs": [],
   "source": [
    "df[\"RepRange\"] = df[\"Desc\"].str.extract(r\"(\\d+-\\d+ reps)\")"
   ]
  },
  {
   "cell_type": "code",
   "execution_count": 55,
   "id": "85639c51-fab8-4d61-92d0-ff97fe09996f",
   "metadata": {},
   "outputs": [],
   "source": [
    "high_risk_keywords = [\"spine\", \"rotator cuff\", \"heavy load\", \"awkward angle\"]\n",
    "df[\"InjuryRisk\"] = df[\"Desc\"].apply(\n",
    "    lambda x: \"High\" if any(keyword in x.lower() for keyword in high_risk_keywords) else \"Low\"\n",
    ")"
   ]
  },
  {
   "cell_type": "code",
   "execution_count": null,
   "id": "f22e7375-d4ed-4943-85f3-52e1bcc53bcf",
   "metadata": {},
   "outputs": [],
   "source": [
    "secondary_muscle_map = {\n",
    "    \"Chest\": [\"Triceps\", \"Shoulders\"],\n",
    "    \"Back\": [\"Biceps\", \"Rear Delts\"],\n",
    "    \"Quadriceps\": [\"Glutes\", \"Hamstrings\"],\n",
    "    \"Abdominals\": [\"Obliques\", \"Hip Flexors\"]\n",
    "}\n",
    "\n",
    "def get_secondary_muscles(row):\n",
    "    primary = row[\"BodyPart\"]\n",
    "    desc = row[\"Desc\"].lower()\n",
    "    # Search for secondary muscles related to the primary\n",
    "    candidates = secondary_muscle_map.get(primary, [])\n",
    "    found = [muscle for muscle in candidates if muscle.lower() in desc]\n",
    "    return \", \".join(found) if found else None\n",
    "\n",
    "df[\"SecondaryMuscles\"] = df.apply(get_secondary_muscles, axis=1)"
   ]
  },
  {
   "cell_type": "code",
   "execution_count": 57,
   "id": "0caa86eb-2855-477d-af48-62c77c417367",
   "metadata": {},
   "outputs": [
    {
     "data": {
      "text/plain": [
       "InjuryRisk\n",
       "Low     203\n",
       "High      4\n",
       "Name: count, dtype: int64"
      ]
     },
     "execution_count": 57,
     "metadata": {},
     "output_type": "execute_result"
    }
   ],
   "source": [
    "df[\"InjuryRisk\"].value_counts()"
   ]
  }
 ],
 "metadata": {
  "kernelspec": {
   "display_name": "Python 3 (ipykernel)",
   "language": "python",
   "name": "python3"
  },
  "language_info": {
   "codemirror_mode": {
    "name": "ipython",
    "version": 3
   },
   "file_extension": ".py",
   "mimetype": "text/x-python",
   "name": "python",
   "nbconvert_exporter": "python",
   "pygments_lexer": "ipython3",
   "version": "3.12.4"
  }
 },
 "nbformat": 4,
 "nbformat_minor": 5
}
